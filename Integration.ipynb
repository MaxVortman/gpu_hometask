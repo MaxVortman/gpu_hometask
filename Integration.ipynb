{
  "nbformat": 4,
  "nbformat_minor": 0,
  "metadata": {
    "colab": {
      "name": "Untitled",
      "version": "0.3.2",
      "provenance": [],
      "collapsed_sections": []
    },
    "kernelspec": {
      "name": "python3",
      "display_name": "Python 3"
    },
    "accelerator": "GPU"
  },
  "cells": [
    {
      "cell_type": "markdown",
      "metadata": {
        "id": "98xU_3b2HNIu",
        "colab_type": "text"
      },
      "source": [
        "1. Интегрирование. Методы прямоугольников, трапеций, Симпсона. Реализовать вычисление по количеству разбиений отрезка (n) и по достигаемой точности (eps) по методу Рунге."
      ]
    },
    {
      "cell_type": "markdown",
      "metadata": {
        "id": "4W1eeLReJG7i",
        "colab_type": "text"
      },
      "source": [
        "## Численное интегрирование\n",
        "\n",
        "$\\int_a^b f(x) dx \\qquad f(x) \\in [a,b]$\n",
        "\n",
        "$\\int_a^b f(x) dx = \\sum_{k=1}^n A_k f(x_k)$ -- квадратурная формула $x_k \\in [a,b]$\n",
        "\n",
        "$A_k = \\int_a^b l_k dx \\qquad l_k$ -- коэффициент Лагранжа\n",
        "\n",
        "$A_k = \\int_a^b \\frac {w(x)}{(x-x_k)w'(x_k)} dx$\n",
        "\n",
        "$w(x) = \\prod_{k=1}^n (x-x_k)$\n",
        "\n",
        "$d$ -- целое натуральное, называется алгебраической степенью точности, если квадратурная формула точна для всех полиномов степени не выше $d$ и не точна для полиномов степени $d + 1$\n",
        "\n",
        "### Квадратурные формулы прямоугольников.\n",
        "\n",
        "#### Левых:\n",
        "\n",
        "$\\int_a^b f(x) dx = (b-a)f(a) \\qquad d = 0$\n",
        "\n",
        "#### Правых:\n",
        "\n",
        "$\\int_a^b f(x) dx = (b-a)f(b) \\qquad d = 0$\n",
        "\n",
        "#### Серединных:\n",
        "\n",
        "$\\int_a^b f(x) dx = (b-a)f(\\frac{a+b}{2}) \\qquad d = 1$\n",
        "\n",
        "### Составная квадратурная формула.\n",
        "\n",
        "$h = \\frac {b-a}{N}, \\, x_k= a+ k h, \\, f_k=f(x_k), \\, k = 0, \\dots , N$\n",
        "\n",
        "$\\int_a^b f(x) dx = h \\cdot \\sum_{k=1}^{N} f(\\delta + (k-1)h)$\n",
        "\n",
        "$\\delta = a $ -- левых прям.\n",
        "\n",
        "$\\delta = a+\\frac{h}{2} $ -- средних.\n",
        "\n",
        "$\\delta = a + h $ -- правых прям.\n",
        "\n",
        "### Квадратурная формула трапеций.\n",
        "\n",
        "#### простая\n",
        "\n",
        "$\\int_a^b f(x) dx = \\frac {b-a}{2} (f(a) + f(b)) \\qquad d = 1$\n",
        "\n",
        "#### составная\n",
        "\n",
        "$\\int_a^b f(x) dx = \\frac {b-a}{2N} (f_0 + 2 (f_1 + \\dots + f_{N-1}) + f_N)$\n",
        "\n",
        "### Квадратурная формула Симпсона\n",
        "\n",
        "#### простая\n",
        "\n",
        "$\\int_a^b f(x) dx = \\frac {b-a}{6} (f(a) + 4f(\\frac{a+b}{2}) + f(b)) \\qquad d = 3 $\n",
        "\n",
        "#### составная\n",
        "\n",
        "$h=\\frac{b-a}{2N} \\qquad [x_{k-1}, x_{k+1}] \\, k = 0, \\dots , N$\n",
        "\n",
        "$\\int_a^b f(x) dx = \\frac {b-a}{6N} (f_0 + 4(f_1 + f_3 + \\cdots + f_{2N-1}) + 2(f_2 + f_4 + \\cdots + f_{2N-2}) + f_{2N})$\n",
        "\n",
        "### Оценка погрешности\n",
        "\n",
        "$\\exists f^{(d+1)}\\in C[a,b]$\n",
        "\n",
        "$| R_N (f) | = C(b-a)(\\frac{b-a}{N})^{d+1} M_{d+1}$\n",
        "\n",
        "$M_{d+1} = \\max_{\\xi \\in [a,b]}|f^{d+1}(\\xi)|$\n",
        "\n",
        "$C = 1/2$ -- для левых и правых\n",
        "\n",
        "$C = 1/24$ -- для средних\n",
        "\n",
        "$C = 1/12$ -- для трапеций\n",
        "\n",
        "$C = 1/2880$ -- для Симпсона\n"
      ]
    },
    {
      "cell_type": "code",
      "metadata": {
        "id": "yUFXM5s-h_nA",
        "colab_type": "code",
        "colab": {}
      },
      "source": [
        "!pip install pycuda"
      ],
      "execution_count": 0,
      "outputs": []
    },
    {
      "cell_type": "markdown",
      "metadata": {
        "id": "WNA6B4J0pmcc",
        "colab_type": "text"
      },
      "source": [
        "[1024 1024 64]"
      ]
    },
    {
      "cell_type": "code",
      "metadata": {
        "id": "VWoVzi-aXDf9",
        "colab_type": "code",
        "colab": {}
      },
      "source": [
        "import pycuda.driver as cuda\n",
        "import pycuda.autoinit\n",
        "from pycuda.compiler import SourceModule"
      ],
      "execution_count": 0,
      "outputs": []
    },
    {
      "cell_type": "code",
      "metadata": {
        "id": "EVoYO2sJhrrr",
        "colab_type": "code",
        "colab": {}
      },
      "source": [
        "import numpy\n",
        "a = numpy.random.randn(4,4)"
      ],
      "execution_count": 0,
      "outputs": []
    },
    {
      "cell_type": "code",
      "metadata": {
        "id": "Pdp61betkZ7g",
        "colab_type": "code",
        "colab": {}
      },
      "source": [
        "a = a.astype(numpy.float32)"
      ],
      "execution_count": 0,
      "outputs": []
    },
    {
      "cell_type": "code",
      "metadata": {
        "id": "WYhtrExakbtu",
        "colab_type": "code",
        "colab": {}
      },
      "source": [
        "a_gpu = cuda.mem_alloc(a.nbytes)"
      ],
      "execution_count": 0,
      "outputs": []
    },
    {
      "cell_type": "code",
      "metadata": {
        "id": "wGsAlQSokdzl",
        "colab_type": "code",
        "colab": {}
      },
      "source": [
        "cuda.memcpy_htod(a_gpu, a)"
      ],
      "execution_count": 0,
      "outputs": []
    },
    {
      "cell_type": "code",
      "metadata": {
        "id": "oEApFjKQkgIA",
        "colab_type": "code",
        "colab": {}
      },
      "source": [
        "mod = SourceModule(\"\"\"\n",
        "  __global__ void doublify(float *a)\n",
        "  {\n",
        "    int idx = threadIdx.x + threadIdx.y*4;\n",
        "    a[idx] *= 2;\n",
        "  }\n",
        "  \"\"\")"
      ],
      "execution_count": 0,
      "outputs": []
    },
    {
      "cell_type": "code",
      "metadata": {
        "id": "GlkToTllkigD",
        "colab_type": "code",
        "colab": {}
      },
      "source": [
        "func = mod.get_function(\"doublify\")\n",
        "func(a_gpu, block=(4,4,1))"
      ],
      "execution_count": 0,
      "outputs": []
    },
    {
      "cell_type": "code",
      "metadata": {
        "id": "Cz-pFjeGkkhz",
        "colab_type": "code",
        "outputId": "efa039da-6b9d-407f-ea15-d83cce6ce9c3",
        "colab": {
          "base_uri": "https://localhost:8080/",
          "height": 153
        }
      },
      "source": [
        "a_doubled = numpy.empty_like(a)\n",
        "cuda.memcpy_dtoh(a_doubled, a_gpu)\n",
        "print(a_doubled)\n",
        "print(a)"
      ],
      "execution_count": 0,
      "outputs": [
        {
          "output_type": "stream",
          "text": [
            "[[-1.8018398  -0.514384    2.1884437   2.5611844 ]\n",
            " [ 0.7302624   1.3989468  -0.7208217  -1.3298794 ]\n",
            " [-0.33193457  3.3238304  -0.11609285  1.1215879 ]\n",
            " [ 0.86144763 -2.038006    1.8497057  -3.8086014 ]]\n",
            "[[-0.9009199  -0.257192    1.0942218   1.2805922 ]\n",
            " [ 0.3651312   0.6994734  -0.36041084 -0.6649397 ]\n",
            " [-0.16596729  1.6619152  -0.05804643  0.56079394]\n",
            " [ 0.43072382 -1.019003    0.92485285 -1.9043007 ]]\n"
          ],
          "name": "stdout"
        }
      ]
    },
    {
      "cell_type": "code",
      "metadata": {
        "id": "YcnLjjwdkmMB",
        "colab_type": "code",
        "colab": {}
      },
      "source": [
        ""
      ],
      "execution_count": 0,
      "outputs": []
    }
  ]
}