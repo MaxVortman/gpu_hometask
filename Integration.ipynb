{
  "nbformat": 4,
  "nbformat_minor": 0,
  "metadata": {
    "colab": {
      "name": "Integration",
      "version": "0.3.2",
      "provenance": [],
      "collapsed_sections": [],
      "include_colab_link": true
    },
    "kernelspec": {
      "name": "python3",
      "display_name": "Python 3"
    },
    "accelerator": "GPU"
  },
  "cells": [
    {
      "cell_type": "markdown",
      "metadata": {
        "id": "view-in-github",
        "colab_type": "text"
      },
      "source": [
        "<a href=\"https://colab.research.google.com/github/MaxVortman/gpu_hometask/blob/master/Integration.ipynb\" target=\"_parent\"><img src=\"https://colab.research.google.com/assets/colab-badge.svg\" alt=\"Open In Colab\"/></a>"
      ]
    },
    {
      "cell_type": "markdown",
      "metadata": {
        "id": "98xU_3b2HNIu",
        "colab_type": "text"
      },
      "source": [
        "1. Интегрирование. Методы прямоугольников, трапеций, Симпсона. Реализовать вычисление по количеству разбиений отрезка (n) и по достигаемой точности (eps) по методу Рунге."
      ]
    },
    {
      "cell_type": "markdown",
      "metadata": {
        "id": "4W1eeLReJG7i",
        "colab_type": "text"
      },
      "source": [
        "## Численное интегрирование\n",
        "\n",
        "$\\int_a^b f(x) dx \\qquad f(x) \\in [a,b]$\n",
        "\n",
        "$\\int_a^b f(x) dx = \\sum_{k=1}^n A_k f(x_k)$ -- квадратурная формула $x_k \\in [a,b]$\n",
        "\n",
        "$A_k = \\int_a^b l_k dx \\qquad l_k$ -- коэффициент Лагранжа\n",
        "\n",
        "$A_k = \\int_a^b \\frac {w(x)}{(x-x_k)w'(x_k)} dx$\n",
        "\n",
        "$w(x) = \\prod_{k=1}^n (x-x_k)$\n",
        "\n",
        "$d$ -- целое натуральное, называется алгебраической степенью точности, если квадратурная формула точна для всех полиномов степени не выше $d$ и не точна для полиномов степени $d + 1$\n",
        "\n",
        "### Квадратурные формулы прямоугольников.\n",
        "\n",
        "#### Левых:\n",
        "\n",
        "$\\int_a^b f(x) dx = (b-a)f(a) \\qquad d = 0$\n",
        "\n",
        "#### Правых:\n",
        "\n",
        "$\\int_a^b f(x) dx = (b-a)f(b) \\qquad d = 0$\n",
        "\n",
        "#### Серединных:\n",
        "\n",
        "$\\int_a^b f(x) dx = (b-a)f(\\frac{a+b}{2}) \\qquad d = 1$\n",
        "\n",
        "### Составная квадратурная формула.\n",
        "\n",
        "$h = \\frac {b-a}{N}, \\, x_k= a+ k h, \\, f_k=f(x_k), \\, k = 0, \\dots , N$\n",
        "\n",
        "$\\int_a^b f(x) dx = h \\cdot \\sum_{k=1}^{N} f(\\delta + (k-1)h)$\n",
        "\n",
        "$\\delta = a $ -- левых прям.\n",
        "\n",
        "$\\delta = a+\\frac{h}{2} $ -- средних.\n",
        "\n",
        "$\\delta = a + h $ -- правых прям.\n",
        "\n",
        "### Квадратурная формула трапеций.\n",
        "\n",
        "#### простая\n",
        "\n",
        "$\\int_a^b f(x) dx = \\frac {b-a}{2} (f(a) + f(b)) \\qquad d = 1$\n",
        "\n",
        "#### составная\n",
        "\n",
        "$\\int_a^b f(x) dx = \\frac {b-a}{2N} (f_0 + 2 (f_1 + \\dots + f_{N-1}) + f_N)$\n",
        "\n",
        "### Квадратурная формула Симпсона\n",
        "\n",
        "#### простая\n",
        "\n",
        "$\\int_a^b f(x) dx = \\frac {b-a}{6} (f(a) + 4f(\\frac{a+b}{2}) + f(b)) \\qquad d = 3 $\n",
        "\n",
        "#### составная\n",
        "\n",
        "$h=\\frac{b-a}{2N} \\qquad [x_{k-1}, x_{k+1}] \\, k = 0, \\dots , N$\n",
        "\n",
        "$\\int_a^b f(x) dx = \\frac {b-a}{6N} (f_0 + 4(f_1 + f_3 + \\cdots + f_{2N-1}) + 2(f_2 + f_4 + \\cdots + f_{2N-2}) + f_{2N})$\n",
        "\n",
        "### Оценка погрешности\n",
        "\n",
        "$\\exists f^{(d+1)}\\in C[a,b]$\n",
        "\n",
        "$| R_N (f) | = C(b-a)(\\frac{b-a}{N})^{d+1} M_{d+1}$\n",
        "\n",
        "$M_{d+1} = \\max_{\\xi \\in [a,b]}|f^{d+1}(\\xi)|$\n",
        "\n",
        "$C = 1/2$ -- для левых и правых\n",
        "\n",
        "$C = 1/24$ -- для средних\n",
        "\n",
        "$C = 1/12$ -- для трапеций\n",
        "\n",
        "$C = 1/2880$ -- для Симпсона\n"
      ]
    },
    {
      "cell_type": "code",
      "metadata": {
        "id": "yUFXM5s-h_nA",
        "colab_type": "code",
        "outputId": "c86985c4-84d2-4b14-f45c-a2230d6564d8",
        "colab": {
          "base_uri": "https://localhost:8080/",
          "height": 272
        }
      },
      "source": [
        "!pip install pycuda"
      ],
      "execution_count": 1,
      "outputs": [
        {
          "output_type": "stream",
          "text": [
            "Requirement already satisfied: pycuda in /usr/local/lib/python3.6/dist-packages (2019.1)\n",
            "Requirement already satisfied: mako in /usr/local/lib/python3.6/dist-packages (from pycuda) (1.0.12)\n",
            "Requirement already satisfied: pytest>=2 in /usr/local/lib/python3.6/dist-packages (from pycuda) (3.6.4)\n",
            "Requirement already satisfied: appdirs>=1.4.0 in /usr/local/lib/python3.6/dist-packages (from pycuda) (1.4.3)\n",
            "Requirement already satisfied: pytools>=2011.2 in /usr/local/lib/python3.6/dist-packages (from pycuda) (2019.1.1)\n",
            "Requirement already satisfied: decorator>=3.2.0 in /usr/local/lib/python3.6/dist-packages (from pycuda) (4.4.0)\n",
            "Requirement already satisfied: MarkupSafe>=0.9.2 in /usr/local/lib/python3.6/dist-packages (from mako->pycuda) (1.1.1)\n",
            "Requirement already satisfied: more-itertools>=4.0.0 in /usr/local/lib/python3.6/dist-packages (from pytest>=2->pycuda) (7.0.0)\n",
            "Requirement already satisfied: py>=1.5.0 in /usr/local/lib/python3.6/dist-packages (from pytest>=2->pycuda) (1.8.0)\n",
            "Requirement already satisfied: pluggy<0.8,>=0.5 in /usr/local/lib/python3.6/dist-packages (from pytest>=2->pycuda) (0.7.1)\n",
            "Requirement already satisfied: setuptools in /usr/local/lib/python3.6/dist-packages (from pytest>=2->pycuda) (41.0.1)\n",
            "Requirement already satisfied: attrs>=17.4.0 in /usr/local/lib/python3.6/dist-packages (from pytest>=2->pycuda) (19.1.0)\n",
            "Requirement already satisfied: six>=1.10.0 in /usr/local/lib/python3.6/dist-packages (from pytest>=2->pycuda) (1.12.0)\n",
            "Requirement already satisfied: atomicwrites>=1.0 in /usr/local/lib/python3.6/dist-packages (from pytest>=2->pycuda) (1.3.0)\n",
            "Requirement already satisfied: numpy>=1.6.0 in /usr/local/lib/python3.6/dist-packages (from pytools>=2011.2->pycuda) (1.16.4)\n"
          ],
          "name": "stdout"
        }
      ]
    },
    {
      "cell_type": "markdown",
      "metadata": {
        "id": "WNA6B4J0pmcc",
        "colab_type": "text"
      },
      "source": [
        "[1024 1024 64]"
      ]
    },
    {
      "cell_type": "code",
      "metadata": {
        "id": "VWoVzi-aXDf9",
        "colab_type": "code",
        "colab": {}
      },
      "source": [
        "import pycuda.driver as cuda\n",
        "import pycuda.autoinit\n",
        "from pycuda.compiler import SourceModule\n",
        "import numpy as np\n",
        "import time\n",
        "import matplotlib.pyplot as plt\n",
        "import math"
      ],
      "execution_count": 0,
      "outputs": []
    },
    {
      "cell_type": "code",
      "metadata": {
        "id": "GlkToTllkigD",
        "colab_type": "code",
        "colab": {}
      },
      "source": [
        "def kvadrature_GPU(a, b, N, delta):\n",
        "  h = np.float32((b - a) /  N)\n",
        "  delta = np.float32(delta)\n",
        "  a = np.empty(N)\n",
        "  a = a.astype(np.float32)\n",
        "  a_gpu = cuda.mem_alloc(a.nbytes)\n",
        "  cuda.memcpy_htod(a_gpu, a)\n",
        "  \n",
        "  mod = SourceModule(\"\"\"\n",
        "    __device__ float f(float x)\n",
        "    {\n",
        "      return tanh(x);\n",
        "    }\n",
        "\n",
        "    __global__ void kvadratur(float *a, float h, float delta, int count)\n",
        "    {\n",
        "      int k = threadIdx.x;\n",
        "      for(int i = 0; i < count; ++i)\n",
        "        a[k + i * 1024] = f(delta + (k + i * 1024 - 1) * h);\n",
        "    }\n",
        "    \"\"\")\n",
        "  func = mod.get_function(\"kvadratur\")\n",
        "  count = N // 1024\n",
        "  count = np.int32(count if count != 0 else 1)\n",
        "  func(a_gpu, h, delta, count, block=(1024 if N > 1024 else N,1,1))\n",
        "  a_res = np.empty_like(a)\n",
        "  cuda.memcpy_dtoh(a_res, a_gpu)\n",
        "  return h * sum(a_res)"
      ],
      "execution_count": 0,
      "outputs": []
    },
    {
      "cell_type": "code",
      "metadata": {
        "id": "EeGW72blbCCc",
        "colab_type": "code",
        "colab": {}
      },
      "source": [
        "\n",
        "def kvadrature_GPU_left(a, b, N):\n",
        "  return kvadrature_GPU(a, b, N, a)\n",
        "\n",
        "def kvadrature_GPU_midle(a, b, N):\n",
        "  return kvadrature_GPU(a, b, N, a + (b - a) / (2 * N))\n",
        "\n",
        "def kvadrature_GPU_right(a, b, N):\n",
        "  return kvadrature_GPU(a, b, N, a + (b - a) / N)"
      ],
      "execution_count": 0,
      "outputs": []
    },
    {
      "cell_type": "code",
      "metadata": {
        "id": "YHYtJk5ocu98",
        "colab_type": "code",
        "colab": {}
      },
      "source": [
        "def kvadrature(f, a, b, N, delta):\n",
        "  h = (b - a) / N\n",
        "  return h * sum(list(map(lambda k: f(delta + (k - 1) * h), range(N))))"
      ],
      "execution_count": 0,
      "outputs": []
    },
    {
      "cell_type": "code",
      "metadata": {
        "id": "8upoXy5PdSb4",
        "colab_type": "code",
        "colab": {}
      },
      "source": [
        "def kvadrature_left(f, a, b, N):\n",
        "  return kvadrature(f, a, b, N, a)\n",
        "\n",
        "def kvadrature_midle(f, a, b, N):\n",
        "  return kvadrature(f, a, b, N, a + (b - a) / (2 * N))\n",
        "\n",
        "def kvadrature_right(f, a, b, N):\n",
        "  return kvadrature(f, a, b, N, a + (b - a) / N)"
      ],
      "execution_count": 0,
      "outputs": []
    },
    {
      "cell_type": "code",
      "metadata": {
        "id": "YpzFgX54sXhq",
        "colab_type": "code",
        "colab": {}
      },
      "source": [
        "f = lambda x: math.tanh(x)"
      ],
      "execution_count": 0,
      "outputs": []
    },
    {
      "cell_type": "code",
      "metadata": {
        "id": "20EOQA7--fac",
        "colab_type": "code",
        "colab": {}
      },
      "source": [
        "def measure_time(func):\n",
        "  t0 = time.time()\n",
        "  func()\n",
        "  return time.time() - t0"
      ],
      "execution_count": 0,
      "outputs": []
    },
    {
      "cell_type": "code",
      "metadata": {
        "id": "oo1sExGy-rdf",
        "colab_type": "code",
        "colab": {
          "base_uri": "https://localhost:8080/",
          "height": 34
        },
        "outputId": "0a8e27c7-8c30-461d-cd6a-0470c92b84bf"
      },
      "source": [
        "measure_time(lambda: kvadrature_left(f, -100, 100, 1024 * 1024))"
      ],
      "execution_count": 9,
      "outputs": [
        {
          "output_type": "execute_result",
          "data": {
            "text/plain": [
              "0.4753735065460205"
            ]
          },
          "metadata": {
            "tags": []
          },
          "execution_count": 9
        }
      ]
    },
    {
      "cell_type": "code",
      "metadata": {
        "colab_type": "code",
        "outputId": "e00fb051-a529-4f3c-d6ef-51158dbb8b20",
        "id": "JO5r1FLZ_giu",
        "colab": {
          "base_uri": "https://localhost:8080/",
          "height": 34
        }
      },
      "source": [
        "measure_time(lambda: kvadrature_GPU_left(-100, 100, 1024 * 1024))"
      ],
      "execution_count": 10,
      "outputs": [
        {
          "output_type": "execute_result",
          "data": {
            "text/plain": [
              "0.2518770694732666"
            ]
          },
          "metadata": {
            "tags": []
          },
          "execution_count": 10
        }
      ]
    },
    {
      "cell_type": "code",
      "metadata": {
        "id": "jO6uAYzxvMqO",
        "colab_type": "code",
        "colab": {
          "base_uri": "https://localhost:8080/",
          "height": 34
        },
        "outputId": "791b32f5-799e-4058-8b6f-1a8cb287534e"
      },
      "source": [
        "measure_time(lambda: kvadrature_midle(f, -100, 100, 1024*1024))"
      ],
      "execution_count": 11,
      "outputs": [
        {
          "output_type": "execute_result",
          "data": {
            "text/plain": [
              "0.4422168731689453"
            ]
          },
          "metadata": {
            "tags": []
          },
          "execution_count": 11
        }
      ]
    },
    {
      "cell_type": "code",
      "metadata": {
        "id": "lOIWhWMiasF8",
        "colab_type": "code",
        "colab": {
          "base_uri": "https://localhost:8080/",
          "height": 34
        },
        "outputId": "aa77ec19-5cbe-4318-b3f5-10d6ac8a456d"
      },
      "source": [
        "measure_time(lambda: kvadrature_GPU_midle(-100, 100, 1024*1024))"
      ],
      "execution_count": 12,
      "outputs": [
        {
          "output_type": "execute_result",
          "data": {
            "text/plain": [
              "0.24029278755187988"
            ]
          },
          "metadata": {
            "tags": []
          },
          "execution_count": 12
        }
      ]
    },
    {
      "cell_type": "code",
      "metadata": {
        "id": "rHcYzxH1vhDz",
        "colab_type": "code",
        "colab": {
          "base_uri": "https://localhost:8080/",
          "height": 34
        },
        "outputId": "8ce9ff60-860c-4ba1-8e77-e8c64a57f56a"
      },
      "source": [
        "measure_time(lambda: kvadrature_right(f, -100, 100, 1024*1024))"
      ],
      "execution_count": 13,
      "outputs": [
        {
          "output_type": "execute_result",
          "data": {
            "text/plain": [
              "0.44025683403015137"
            ]
          },
          "metadata": {
            "tags": []
          },
          "execution_count": 13
        }
      ]
    },
    {
      "cell_type": "code",
      "metadata": {
        "id": "YK8Hj89pbyS1",
        "colab_type": "code",
        "colab": {
          "base_uri": "https://localhost:8080/",
          "height": 34
        },
        "outputId": "cb97e80d-f050-4bca-caf9-ff7dbcdb990f"
      },
      "source": [
        "measure_time(lambda: kvadrature_GPU_right(-100, 100, 1024*1024))"
      ],
      "execution_count": 14,
      "outputs": [
        {
          "output_type": "execute_result",
          "data": {
            "text/plain": [
              "0.2390727996826172"
            ]
          },
          "metadata": {
            "tags": []
          },
          "execution_count": 14
        }
      ]
    },
    {
      "cell_type": "code",
      "metadata": {
        "id": "YsGj6EImDWyU",
        "colab_type": "code",
        "colab": {}
      },
      "source": [
        "def plot(f1, f2):\n",
        "  X = [2 ** i for i in range(0, 21)]\n",
        "  Y1 = [measure_time(lambda:f1(x)) for x in X]\n",
        "  Y2 = [measure_time(lambda:f2(x)) for x in X]\n",
        "  plt.plot(X, Y1, '-r', label='CPU')\n",
        "  plt.plot(X, Y2, '-b', label='GPU')\n",
        "  plt.title('Graph of time elapsed in depend on N')\n",
        "  plt.xlabel('N', color='#1C2833')\n",
        "  plt.ylabel('time in seconds', color='#1C2833')\n",
        "  plt.legend(loc='upper left')\n",
        "  plt.grid()\n",
        "  plt.show()"
      ],
      "execution_count": 0,
      "outputs": []
    },
    {
      "cell_type": "code",
      "metadata": {
        "id": "YzUnVgV7b0Fq",
        "colab_type": "code",
        "colab": {
          "base_uri": "https://localhost:8080/",
          "height": 295
        },
        "outputId": "53f4ad97-9098-413f-a723-1b6b348a9a68"
      },
      "source": [
        "plot(lambda x: kvadrature_midle(f, -100, 100, x), lambda x: kvadrature_GPU_midle(-100, 100, x))"
      ],
      "execution_count": 16,
      "outputs": [
        {
          "output_type": "display_data",
          "data": {
            "image/png": "[encoded data removed]",
            "text/plain": [
              "<Figure size 432x288 with 1 Axes>"
            ]
          },
          "metadata": {
            "tags": []
          }
        }
      ]
    },
    {
      "cell_type": "code",
      "metadata": {
        "id": "EsDzXvGDC_Ai",
        "colab_type": "code",
        "colab": {}
      },
      "source": [
        ""
      ],
      "execution_count": 0,
      "outputs": []
    }
  ]
}