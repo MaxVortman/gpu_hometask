{
  "nbformat": 4,
  "nbformat_minor": 0,
  "metadata": {
    "colab": {
      "name": "Integration",
      "version": "0.3.2",
      "provenance": [],
      "collapsed_sections": [],
      "include_colab_link": true
    },
    "kernelspec": {
      "name": "python3",
      "display_name": "Python 3"
    },
    "accelerator": "GPU"
  },
  "cells": [
    {
      "cell_type": "markdown",
      "metadata": {
        "id": "view-in-github",
        "colab_type": "text"
      },
      "source": [
        "<a href=\"https://colab.research.google.com/github/MaxVortman/gpu_hometask/blob/master/Integration.ipynb\" target=\"_parent\"><img src=\"https://colab.research.google.com/assets/colab-badge.svg\" alt=\"Open In Colab\"/></a>"
      ]
    },
    {
      "cell_type": "markdown",
      "metadata": {
        "id": "98xU_3b2HNIu",
        "colab_type": "text"
      },
      "source": [
        "1. Интегрирование. Методы прямоугольников, трапеций, Симпсона. Реализовать вычисление по количеству разбиений отрезка (n) и по достигаемой точности (eps) по методу Рунге."
      ]
    },
    {
      "cell_type": "markdown",
      "metadata": {
        "id": "4W1eeLReJG7i",
        "colab_type": "text"
      },
      "source": [
        "## Численное интегрирование\n",
        "\n",
        "$\\int_a^b f(x) dx \\qquad f(x) \\in [a,b]$\n",
        "\n",
        "$\\int_a^b f(x) dx = \\sum_{k=1}^n A_k f(x_k)$ -- квадратурная формула $x_k \\in [a,b]$\n",
        "\n",
        "$A_k = \\int_a^b l_k dx \\qquad l_k$ -- коэффициент Лагранжа\n",
        "\n",
        "$A_k = \\int_a^b \\frac {w(x)}{(x-x_k)w'(x_k)} dx$\n",
        "\n",
        "$w(x) = \\prod_{k=1}^n (x-x_k)$\n",
        "\n",
        "$d$ -- целое натуральное, называется алгебраической степенью точности, если квадратурная формула точна для всех полиномов степени не выше $d$ и не точна для полиномов степени $d + 1$\n",
        "\n",
        "### Квадратурные формулы прямоугольников.\n",
        "\n",
        "#### Левых:\n",
        "\n",
        "$\\int_a^b f(x) dx = (b-a)f(a) \\qquad d = 0$\n",
        "\n",
        "#### Правых:\n",
        "\n",
        "$\\int_a^b f(x) dx = (b-a)f(b) \\qquad d = 0$\n",
        "\n",
        "#### Серединных:\n",
        "\n",
        "$\\int_a^b f(x) dx = (b-a)f(\\frac{a+b}{2}) \\qquad d = 1$\n",
        "\n",
        "### Составная квадратурная формула.\n",
        "\n",
        "$h = \\frac {b-a}{N}, \\, x_k= a+ k h, \\, f_k=f(x_k), \\, k = 0, \\dots , N$\n",
        "\n",
        "$\\int_a^b f(x) dx = h \\cdot \\sum_{k=1}^{N} f(\\delta + (k-1)h)$\n",
        "\n",
        "$\\delta = a $ -- левых прям.\n",
        "\n",
        "$\\delta = a+\\frac{h}{2} $ -- средних.\n",
        "\n",
        "$\\delta = a + h $ -- правых прям.\n",
        "\n",
        "### Квадратурная формула трапеций.\n",
        "\n",
        "#### простая\n",
        "\n",
        "$\\int_a^b f(x) dx = \\frac {b-a}{2} (f(a) + f(b)) \\qquad d = 1$\n",
        "\n",
        "#### составная\n",
        "\n",
        "$\\int_a^b f(x) dx = \\frac {b-a}{2N} (f_0 + 2 (f_1 + \\dots + f_{N-1}) + f_N)$\n",
        "\n",
        "### Квадратурная формула Симпсона\n",
        "\n",
        "#### простая\n",
        "\n",
        "$\\int_a^b f(x) dx = \\frac {b-a}{6} (f(a) + 4f(\\frac{a+b}{2}) + f(b)) \\qquad d = 3 $\n",
        "\n",
        "#### составная\n",
        "\n",
        "$h=\\frac{b-a}{2N} \\qquad [x_{k-1}, x_{k+1}] \\, k = 0, \\dots , N$\n",
        "\n",
        "$\\int_a^b f(x) dx = \\frac {b-a}{6N} (f_0 + 4(f_1 + f_3 + \\cdots + f_{2N-1}) + 2(f_2 + f_4 + \\cdots + f_{2N-2}) + f_{2N})$\n",
        "\n",
        "### Оценка погрешности\n",
        "\n",
        "$\\exists f^{(d+1)}\\in C[a,b]$\n",
        "\n",
        "$| R_N (f) | = C(b-a)(\\frac{b-a}{N})^{d+1} M_{d+1}$\n",
        "\n",
        "$M_{d+1} = \\max_{\\xi \\in [a,b]}|f^{d+1}(\\xi)|$\n",
        "\n",
        "$C = 1/2$ -- для левых и правых\n",
        "\n",
        "$C = 1/24$ -- для средних\n",
        "\n",
        "$C = 1/12$ -- для трапеций\n",
        "\n",
        "$C = 1/2880$ -- для Симпсона\n"
      ]
    },
    {
      "cell_type": "code",
      "metadata": {
        "id": "yUFXM5s-h_nA",
        "colab_type": "code",
        "outputId": "2ca9df79-2d0a-4fbb-9a57-8eabffac63bd",
        "colab": {
          "base_uri": "https://localhost:8080/",
          "height": 561
        }
      },
      "source": [
        "!pip install pycuda"
      ],
      "execution_count": 1,
      "outputs": [
        {
          "output_type": "stream",
          "text": [
            "Collecting pycuda\n",
            "\u001b[?25l  Downloading https://files.pythonhosted.org/packages/4d/29/5a3eb66c2f1a4adc681f6c8131e9ed677af31b0c8a78726d540bd44b3403/pycuda-2019.1.tar.gz (1.6MB)\n",
            "\u001b[K     |████████████████████████████████| 1.6MB 3.4MB/s \n",
            "\u001b[?25hCollecting pytools>=2011.2 (from pycuda)\n",
            "\u001b[?25l  Downloading https://files.pythonhosted.org/packages/00/96/00416762a3eda8876a17d007df4a946f46b2e4ee1057e0b9714926472ef8/pytools-2019.1.1.tar.gz (58kB)\n",
            "\u001b[K     |████████████████████████████████| 61kB 19.7MB/s \n",
            "\u001b[?25hRequirement already satisfied: pytest>=2 in /usr/local/lib/python3.6/dist-packages (from pycuda) (3.6.4)\n",
            "Requirement already satisfied: decorator>=3.2.0 in /usr/local/lib/python3.6/dist-packages (from pycuda) (4.4.0)\n",
            "Collecting appdirs>=1.4.0 (from pycuda)\n",
            "  Downloading https://files.pythonhosted.org/packages/56/eb/810e700ed1349edde4cbdc1b2a21e28cdf115f9faf263f6bbf8447c1abf3/appdirs-1.4.3-py2.py3-none-any.whl\n",
            "Collecting mako (from pycuda)\n",
            "\u001b[?25l  Downloading https://files.pythonhosted.org/packages/0a/af/a6d8aa7b8909a36074f517b15222e3a2fbd5ef3452c0a686e3d43043dd3b/Mako-1.0.12.tar.gz (460kB)\n",
            "\u001b[K     |████████████████████████████████| 460kB 45.1MB/s \n",
            "\u001b[?25hRequirement already satisfied: six>=1.8.0 in /usr/local/lib/python3.6/dist-packages (from pytools>=2011.2->pycuda) (1.12.0)\n",
            "Requirement already satisfied: numpy>=1.6.0 in /usr/local/lib/python3.6/dist-packages (from pytools>=2011.2->pycuda) (1.16.4)\n",
            "Requirement already satisfied: pluggy<0.8,>=0.5 in /usr/local/lib/python3.6/dist-packages (from pytest>=2->pycuda) (0.7.1)\n",
            "Requirement already satisfied: py>=1.5.0 in /usr/local/lib/python3.6/dist-packages (from pytest>=2->pycuda) (1.8.0)\n",
            "Requirement already satisfied: more-itertools>=4.0.0 in /usr/local/lib/python3.6/dist-packages (from pytest>=2->pycuda) (7.0.0)\n",
            "Requirement already satisfied: atomicwrites>=1.0 in /usr/local/lib/python3.6/dist-packages (from pytest>=2->pycuda) (1.3.0)\n",
            "Requirement already satisfied: attrs>=17.4.0 in /usr/local/lib/python3.6/dist-packages (from pytest>=2->pycuda) (19.1.0)\n",
            "Requirement already satisfied: setuptools in /usr/local/lib/python3.6/dist-packages (from pytest>=2->pycuda) (41.0.1)\n",
            "Requirement already satisfied: MarkupSafe>=0.9.2 in /usr/local/lib/python3.6/dist-packages (from mako->pycuda) (1.1.1)\n",
            "Building wheels for collected packages: pycuda, pytools, mako\n",
            "  Building wheel for pycuda (setup.py) ... \u001b[?25l\u001b[?25hdone\n",
            "  Stored in directory: /root/.cache/pip/wheels/de/c2/d5/351a6b47b20d417e82a669cf53f8cb4d7b55a57f73cbd05184\n",
            "  Building wheel for pytools (setup.py) ... \u001b[?25l\u001b[?25hdone\n",
            "  Stored in directory: /root/.cache/pip/wheels/83/df/0b/75ac4572aaa93e3eba6a58472635d0fda907f5f4cf884a3a0c\n",
            "  Building wheel for mako (setup.py) ... \u001b[?25l\u001b[?25hdone\n",
            "  Stored in directory: /root/.cache/pip/wheels/b3/7b/ae/5addd138cd8175503b9782737bada30d0c88310d08c106f9bf\n",
            "Successfully built pycuda pytools mako\n",
            "Installing collected packages: appdirs, pytools, mako, pycuda\n",
            "Successfully installed appdirs-1.4.3 mako-1.0.12 pycuda-2019.1 pytools-2019.1.1\n"
          ],
          "name": "stdout"
        }
      ]
    },
    {
      "cell_type": "code",
      "metadata": {
        "id": "VWoVzi-aXDf9",
        "colab_type": "code",
        "colab": {}
      },
      "source": [
        "import pycuda.driver as cuda\n",
        "import pycuda.autoinit\n",
        "from pycuda.compiler import SourceModule\n",
        "import numpy as np\n",
        "import time\n",
        "import matplotlib.pyplot as plt\n",
        "import math"
      ],
      "execution_count": 0,
      "outputs": []
    },
    {
      "cell_type": "code",
      "metadata": {
        "id": "GlkToTllkigD",
        "colab_type": "code",
        "colab": {}
      },
      "source": [
        "def rectangles_GPU(a, b, N, delta):\n",
        "  h = np.float32((b - a) / N)\n",
        "  delta = np.float32(delta)\n",
        "  a = np.empty(N + 1)\n",
        "  a = a.astype(np.float32)\n",
        "  a_gpu = cuda.mem_alloc(a.nbytes)\n",
        "  cuda.memcpy_htod(a_gpu, a)\n",
        "  \n",
        "  mod = SourceModule(\"\"\"\n",
        "    __device__ float f(float x)\n",
        "    {\n",
        "      return tanh(x);\n",
        "    }\n",
        "\n",
        "    __global__ void rectangles(float *a, float h, float delta, int N, int count)\n",
        "    {\n",
        "      int k = threadIdx.x;\n",
        "      for(int i = 0; i < count; ++i)\n",
        "      {\n",
        "        int idx = k + i * 1024;\n",
        "        if(idx <= N)\n",
        "          a[idx] = f(delta + idx * h);\n",
        "      }\n",
        "    }\n",
        "    \"\"\")\n",
        "  func = mod.get_function(\"rectangles\")\n",
        "  count = N // 1024 + 1\n",
        "  count = np.int32(count)\n",
        "  N_arg = np.int32(N)\n",
        "  func(a_gpu, h, delta, N_arg, count, block=(1024 if N + 1 > 1024 else N + 1,1,1))\n",
        "  a_res = np.empty_like(a)\n",
        "  cuda.memcpy_dtoh(a_res, a_gpu)\n",
        "  return h * sum(a_res)"
      ],
      "execution_count": 0,
      "outputs": []
    },
    {
      "cell_type": "code",
      "metadata": {
        "id": "EeGW72blbCCc",
        "colab_type": "code",
        "colab": {}
      },
      "source": [
        "\n",
        "def rectangles_GPU_left(a, b, N):\n",
        "  return rectangles_GPU(a, b, N, a)\n",
        "\n",
        "def rectangles_GPU_midle(a, b, N):\n",
        "  return rectangles_GPU(a, b, N, a + (b - a) / (2 * N))\n",
        "\n",
        "def rectangles_GPU_right(a, b, N):\n",
        "  return rectangles_GPU(a, b, N, a + (b - a) / N)"
      ],
      "execution_count": 0,
      "outputs": []
    },
    {
      "cell_type": "code",
      "metadata": {
        "id": "YHYtJk5ocu98",
        "colab_type": "code",
        "colab": {}
      },
      "source": [
        "def rectangles(f, a, b, N, delta):\n",
        "  h = (b - a) / (N - 1)\n",
        "  return h * sum(list(map(lambda k: f(delta + k * h), range(N))))"
      ],
      "execution_count": 0,
      "outputs": []
    },
    {
      "cell_type": "code",
      "metadata": {
        "id": "8upoXy5PdSb4",
        "colab_type": "code",
        "colab": {}
      },
      "source": [
        "def rectangles_left(f, a, b, N):\n",
        "  return rectangles(f, a, b, N, a)\n",
        "\n",
        "def rectangles_midle(f, a, b, N):\n",
        "  return rectangles(f, a, b, N, a + (b - a) / (2 * N))\n",
        "\n",
        "def rectangles_right(f, a, b, N):\n",
        "  return rectangles(f, a, b, N, a + (b - a) / N)"
      ],
      "execution_count": 0,
      "outputs": []
    },
    {
      "cell_type": "code",
      "metadata": {
        "id": "YpzFgX54sXhq",
        "colab_type": "code",
        "colab": {}
      },
      "source": [
        "f = lambda x: math.tanh(x)"
      ],
      "execution_count": 0,
      "outputs": []
    },
    {
      "cell_type": "code",
      "metadata": {
        "id": "20EOQA7--fac",
        "colab_type": "code",
        "colab": {}
      },
      "source": [
        "def measure_time(func):\n",
        "  t0 = time.time()\n",
        "  func()\n",
        "  return time.time() - t0"
      ],
      "execution_count": 0,
      "outputs": []
    },
    {
      "cell_type": "code",
      "metadata": {
        "id": "prHy4RLQ89Cf",
        "colab_type": "code",
        "colab": {
          "base_uri": "https://localhost:8080/",
          "height": 34
        },
        "outputId": "ef05b0b3-65a4-4fd6-89c5-e662a81c473f"
      },
      "source": [
        "rectangles_midle(f, -100, 100, 1024*1024)"
      ],
      "execution_count": 174,
      "outputs": [
        {
          "output_type": "execute_result",
          "data": {
            "text/plain": [
              "0.00019073486381415757"
            ]
          },
          "metadata": {
            "tags": []
          },
          "execution_count": 174
        }
      ]
    },
    {
      "cell_type": "code",
      "metadata": {
        "id": "nLdcPDGm9CQF",
        "colab_type": "code",
        "colab": {
          "base_uri": "https://localhost:8080/",
          "height": 34
        },
        "outputId": "6172ec42-b9ab-4929-d90c-a0c30c1fdecf"
      },
      "source": [
        "rectangles_GPU_midle(-100, 100, 1024*1024)"
      ],
      "execution_count": 175,
      "outputs": [
        {
          "output_type": "execute_result",
          "data": {
            "text/plain": [
              "0.00018310532590160022"
            ]
          },
          "metadata": {
            "tags": []
          },
          "execution_count": 175
        }
      ]
    },
    {
      "cell_type": "code",
      "metadata": {
        "id": "YsGj6EImDWyU",
        "colab_type": "code",
        "colab": {}
      },
      "source": [
        "def plot(f1, f2):\n",
        "  X = [2 ** i for i in range(1, 21)]\n",
        "  Y1 = [measure_time(lambda:f1(x)) for x in X]\n",
        "  Y2 = [measure_time(lambda:f2(x)) for x in X]\n",
        "  plt.plot(X, Y1, '-r', label='CPU')\n",
        "  plt.plot(X, Y2, '-b', label='GPU')\n",
        "  plt.title('Graph of time elapsed in depend on N')\n",
        "  plt.xlabel('N', color='#1C2833')\n",
        "  plt.ylabel('time in seconds', color='#1C2833')\n",
        "  plt.legend(loc='upper left')\n",
        "  plt.grid()\n",
        "  plt.show()"
      ],
      "execution_count": 0,
      "outputs": []
    },
    {
      "cell_type": "code",
      "metadata": {
        "id": "YzUnVgV7b0Fq",
        "colab_type": "code",
        "colab": {
          "base_uri": "https://localhost:8080/",
          "height": 295
        },
        "outputId": "6c12263b-5370-4dfc-e855-cc85be1e4e6e"
      },
      "source": [
        "plot(lambda x: rectangles_midle(f, -100, 100, x), lambda x: rectangles_GPU_midle(-100, 100, x))"
      ],
      "execution_count": 177,
      "outputs": [
        {
          "output_type": "display_data",
          "data": {
            "image/png": "[encoded data removed]",
            "text/plain": [
              "<Figure size 432x288 with 1 Axes>"
            ]
          },
          "metadata": {
            "tags": []
          }
        }
      ]
    },
    {
      "cell_type": "code",
      "metadata": {
        "id": "EsDzXvGDC_Ai",
        "colab_type": "code",
        "colab": {}
      },
      "source": [
        "def trapeze_GPU(a, b, N):\n",
        "  h = np.float32((b - a) / N)\n",
        "  arr = np.empty(N + 1)\n",
        "  arr = arr.astype(np.float32)\n",
        "  arr_gpu = cuda.mem_alloc(arr.nbytes)\n",
        "  cuda.memcpy_htod(arr_gpu, arr)\n",
        "  \n",
        "  mod = SourceModule(\"\"\"\n",
        "    __device__ float f(float x)\n",
        "    {\n",
        "      return tanh(x);\n",
        "    }\n",
        "\n",
        "    __global__ void trapeze(float *arr, float h, float a, int N, int count)\n",
        "    {\n",
        "      int k = threadIdx.x;\n",
        "      for(int i = 0; i < count; ++i)\n",
        "      {\n",
        "        int idx = k + i * 1024;\n",
        "        if(idx <= N)\n",
        "        {\n",
        "          float x_k = a + h * idx;\n",
        "          arr[idx] = f(x_k);\n",
        "          if(idx > 0 && idx < N)\n",
        "            arr[idx] *= 2;\n",
        "        }\n",
        "      }\n",
        "    }\n",
        "    \"\"\")\n",
        "  func = mod.get_function(\"trapeze\")\n",
        "  count = N // 1024 + 1\n",
        "  count = np.int32(count)\n",
        "  a = np.float32(a)\n",
        "  N_arg = np.int32(N)\n",
        "  func(arr_gpu, h, a, N_arg, count, block=(1024 if N + 1 > 1024 else N + 1,1,1))\n",
        "  arr_res = np.empty_like(arr)\n",
        "  cuda.memcpy_dtoh(arr_res, arr_gpu)\n",
        "  return h / 2 * sum(arr_res)"
      ],
      "execution_count": 0,
      "outputs": []
    },
    {
      "cell_type": "code",
      "metadata": {
        "id": "yrHFJBaWAkVU",
        "colab_type": "code",
        "colab": {}
      },
      "source": [
        "def trapeze(f, a, b, N):\n",
        "  h = (b - a) / (N - 1)\n",
        "  return h / 2 * (sum(list(map(lambda k: 2 * f(a + h * k), range(1, N - 1)))) + f(a) + f(b))"
      ],
      "execution_count": 0,
      "outputs": []
    },
    {
      "cell_type": "code",
      "metadata": {
        "id": "gqZhonl-BQFZ",
        "colab_type": "code",
        "colab": {
          "base_uri": "https://localhost:8080/",
          "height": 34
        },
        "outputId": "43f3df2c-5ccc-41d9-b7e6-ede8e1df60eb"
      },
      "source": [
        "trapeze(f, -100, 100, 1024*1024)"
      ],
      "execution_count": 180,
      "outputs": [
        {
          "output_type": "execute_result",
          "data": {
            "text/plain": [
              "0.0"
            ]
          },
          "metadata": {
            "tags": []
          },
          "execution_count": 180
        }
      ]
    },
    {
      "cell_type": "code",
      "metadata": {
        "id": "gfP5icRWBZiA",
        "colab_type": "code",
        "colab": {
          "base_uri": "https://localhost:8080/",
          "height": 34
        },
        "outputId": "91ad6a6f-4f8b-452a-ca08-3befefe3ae27"
      },
      "source": [
        "trapeze_GPU(-100, 100, 1024*1024)"
      ],
      "execution_count": 181,
      "outputs": [
        {
          "output_type": "execute_result",
          "data": {
            "text/plain": [
              "1.1102230246251565e-14"
            ]
          },
          "metadata": {
            "tags": []
          },
          "execution_count": 181
        }
      ]
    },
    {
      "cell_type": "code",
      "metadata": {
        "id": "Ta7qFrprBdk1",
        "colab_type": "code",
        "colab": {
          "base_uri": "https://localhost:8080/",
          "height": 295
        },
        "outputId": "1130a8fe-f557-4fea-ad9e-d21646f09542"
      },
      "source": [
        "plot(lambda x: trapeze(f, -100, 100, x), lambda x: trapeze_GPU(-100, 100, x))"
      ],
      "execution_count": 182,
      "outputs": [
        {
          "output_type": "display_data",
          "data": {
            "image/png": "[encoded data removed]",
            "text/plain": [
              "<Figure size 432x288 with 1 Axes>"
            ]
          },
          "metadata": {
            "tags": []
          }
        }
      ]
    },
    {
      "cell_type": "code",
      "metadata": {
        "id": "FfENhc6_CWd7",
        "colab_type": "code",
        "colab": {}
      },
      "source": [
        "def simpson_GPU(a, b, N):\n",
        "  h = np.float32((b - a) /  (2*N))\n",
        "  arr = np.empty(2*N + 1)\n",
        "  arr = arr.astype(np.float32)\n",
        "  arr_gpu = cuda.mem_alloc(arr.nbytes)\n",
        "  cuda.memcpy_htod(arr_gpu, arr)\n",
        "  \n",
        "  mod = SourceModule(\"\"\"\n",
        "    __device__ float f(float x)\n",
        "    {\n",
        "      return tanh(x);\n",
        "    }\n",
        "\n",
        "    __global__ void simpson(float *arr, float h, float a, int N, int count)\n",
        "    {\n",
        "      int k = threadIdx.x;\n",
        "      for(int i = 0; i < count; ++i)\n",
        "      {\n",
        "        int idx = k + i * 1024; \n",
        "        if(idx <= N)\n",
        "        {\n",
        "          float x_k = a + h * idx;\n",
        "          arr[idx] = f(x_k);\n",
        "          if(idx > 0 && idx < N)\n",
        "          {\n",
        "            if(idx % 2 == 0)\n",
        "              arr[idx] *= 2;\n",
        "            else\n",
        "              arr[idx] *= 4;\n",
        "          }\n",
        "        }\n",
        "      }\n",
        "    }\n",
        "    \"\"\")\n",
        "  func = mod.get_function(\"simpson\")\n",
        "  count = 2 * N // 1024 + 1\n",
        "  count = np.int32(count)\n",
        "  a = np.float32(a)\n",
        "  N_arg = np.int32(2 * N)\n",
        "  func(arr_gpu, h, a, N_arg, count, block=(1024 if 2*N + 1 > 1024 else 2*N + 1,1,1))\n",
        "  arr_res = np.empty_like(arr)\n",
        "  cuda.memcpy_dtoh(arr_res, arr_gpu)\n",
        "  return h / 3 * sum(arr_res)"
      ],
      "execution_count": 0,
      "outputs": []
    },
    {
      "cell_type": "code",
      "metadata": {
        "id": "YJcpW4S2I0io",
        "colab_type": "code",
        "colab": {}
      },
      "source": [
        "def simpson(f, a, b, N):\n",
        "  h = (b - a) / (2*N)\n",
        "  return h / 3 * (sum(list(map(lambda k: 2 * f(a + h * k) if k % 2 == 0 else 4 * f(a + h * k), range(1, 2*N)))) + f(a) + f(b))"
      ],
      "execution_count": 0,
      "outputs": []
    },
    {
      "cell_type": "code",
      "metadata": {
        "id": "zBK0DUelJVon",
        "colab_type": "code",
        "colab": {
          "base_uri": "https://localhost:8080/",
          "height": 34
        },
        "outputId": "cb13c6c8-64dc-47e2-de3c-e6d8e14248f0"
      },
      "source": [
        "simpson(f, -100, 100, 66)"
      ],
      "execution_count": 185,
      "outputs": [
        {
          "output_type": "execute_result",
          "data": {
            "text/plain": [
              "0.0"
            ]
          },
          "metadata": {
            "tags": []
          },
          "execution_count": 185
        }
      ]
    },
    {
      "cell_type": "code",
      "metadata": {
        "id": "v8nJcM_dJY_x",
        "colab_type": "code",
        "colab": {
          "base_uri": "https://localhost:8080/",
          "height": 34
        },
        "outputId": "63945b12-afcf-40bc-e9f7-f749ab2dbc7c"
      },
      "source": [
        "simpson_GPU(-100, 100, 66)"
      ],
      "execution_count": 186,
      "outputs": [
        {
          "output_type": "execute_result",
          "data": {
            "text/plain": [
              "-1.5653744943241086e-06"
            ]
          },
          "metadata": {
            "tags": []
          },
          "execution_count": 186
        }
      ]
    },
    {
      "cell_type": "code",
      "metadata": {
        "id": "vdeUovKLKqhb",
        "colab_type": "code",
        "colab": {
          "base_uri": "https://localhost:8080/",
          "height": 295
        },
        "outputId": "b7e47409-4904-4e40-fb6c-c881e64b8d5c"
      },
      "source": [
        "plot(lambda x: simpson(f, -100, 100, x), lambda x: simpson_GPU(-100, 100, x))"
      ],
      "execution_count": 187,
      "outputs": [
        {
          "output_type": "display_data",
          "data": {
            "image/png": "[encoded data removed]",
            "text/plain": [
              "<Figure size 432x288 with 1 Axes>"
            ]
          },
          "metadata": {
            "tags": []
          }
        }
      ]
    },
    {
      "cell_type": "code",
      "metadata": {
        "id": "YDxmNwWUTF3K",
        "colab_type": "code",
        "colab": {}
      },
      "source": [
        ""
      ],
      "execution_count": 0,
      "outputs": []
    }
  ]
}