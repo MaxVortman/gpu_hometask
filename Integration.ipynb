{
  "nbformat": 4,
  "nbformat_minor": 0,
  "metadata": {
    "colab": {
      "name": "Integration",
      "version": "0.3.2",
      "provenance": [],
      "collapsed_sections": []
    },
    "kernelspec": {
      "name": "python3",
      "display_name": "Python 3"
    },
    "accelerator": "GPU"
  },
  "cells": [
    {
      "cell_type": "markdown",
      "metadata": {
        "id": "98xU_3b2HNIu",
        "colab_type": "text"
      },
      "source": [
        "1. Интегрирование. Методы прямоугольников, трапеций, Симпсона. Реализовать вычисление по количеству разбиений отрезка (n) и по достигаемой точности (eps) по методу Рунге."
      ]
    },
    {
      "cell_type": "markdown",
      "metadata": {
        "id": "4W1eeLReJG7i",
        "colab_type": "text"
      },
      "source": [
        "## Численное интегрирование\n",
        "\n",
        "$\\int_a^b f(x) dx \\qquad f(x) \\in [a,b]$\n",
        "\n",
        "$\\int_a^b f(x) dx = \\sum_{k=1}^n A_k f(x_k)$ -- квадратурная формула $x_k \\in [a,b]$\n",
        "\n",
        "$A_k = \\int_a^b l_k dx \\qquad l_k$ -- коэффициент Лагранжа\n",
        "\n",
        "$A_k = \\int_a^b \\frac {w(x)}{(x-x_k)w'(x_k)} dx$\n",
        "\n",
        "$w(x) = \\prod_{k=1}^n (x-x_k)$\n",
        "\n",
        "$d$ -- целое натуральное, называется алгебраической степенью точности, если квадратурная формула точна для всех полиномов степени не выше $d$ и не точна для полиномов степени $d + 1$\n",
        "\n",
        "### Квадратурные формулы прямоугольников.\n",
        "\n",
        "#### Левых:\n",
        "\n",
        "$\\int_a^b f(x) dx = (b-a)f(a) \\qquad d = 0$\n",
        "\n",
        "#### Правых:\n",
        "\n",
        "$\\int_a^b f(x) dx = (b-a)f(b) \\qquad d = 0$\n",
        "\n",
        "#### Серединных:\n",
        "\n",
        "$\\int_a^b f(x) dx = (b-a)f(\\frac{a+b}{2}) \\qquad d = 1$\n",
        "\n",
        "### Составная квадратурная формула.\n",
        "\n",
        "$h = \\frac {b-a}{N}, \\, x_k= a+ k h, \\, f_k=f(x_k), \\, k = 0, \\dots , N$\n",
        "\n",
        "$\\int_a^b f(x) dx = h \\cdot \\sum_{k=1}^{N} f(\\delta + (k-1)h)$\n",
        "\n",
        "$\\delta = a $ -- левых прям.\n",
        "\n",
        "$\\delta = a+\\frac{h}{2} $ -- средних.\n",
        "\n",
        "$\\delta = a + h $ -- правых прям.\n",
        "\n",
        "### Квадратурная формула трапеций.\n",
        "\n",
        "#### простая\n",
        "\n",
        "$\\int_a^b f(x) dx = \\frac {b-a}{2} (f(a) + f(b)) \\qquad d = 1$\n",
        "\n",
        "#### составная\n",
        "\n",
        "$\\int_a^b f(x) dx = \\frac {b-a}{2N} (f_0 + 2 (f_1 + \\dots + f_{N-1}) + f_N)$\n",
        "\n",
        "### Квадратурная формула Симпсона\n",
        "\n",
        "#### простая\n",
        "\n",
        "$\\int_a^b f(x) dx = \\frac {b-a}{6} (f(a) + 4f(\\frac{a+b}{2}) + f(b)) \\qquad d = 3 $\n",
        "\n",
        "#### составная\n",
        "\n",
        "$h=\\frac{b-a}{2N} \\qquad [x_{k-1}, x_{k+1}] \\, k = 0, \\dots , N$\n",
        "\n",
        "$\\int_a^b f(x) dx = \\frac {b-a}{6N} (f_0 + 4(f_1 + f_3 + \\cdots + f_{2N-1}) + 2(f_2 + f_4 + \\cdots + f_{2N-2}) + f_{2N})$\n",
        "\n",
        "### Оценка погрешности\n",
        "\n",
        "$\\exists f^{(d+1)}\\in C[a,b]$\n",
        "\n",
        "$| R_N (f) | = C(b-a)(\\frac{b-a}{N})^{d+1} M_{d+1}$\n",
        "\n",
        "$M_{d+1} = \\max_{\\xi \\in [a,b]}|f^{d+1}(\\xi)|$\n",
        "\n",
        "$C = 1/2$ -- для левых и правых\n",
        "\n",
        "$C = 1/24$ -- для средних\n",
        "\n",
        "$C = 1/12$ -- для трапеций\n",
        "\n",
        "$C = 1/2880$ -- для Симпсона\n"
      ]
    },
    {
      "cell_type": "code",
      "metadata": {
        "id": "yUFXM5s-h_nA",
        "colab_type": "code",
        "outputId": "ad49f4a6-94f4-4d84-f078-fecc49cec1f4",
        "colab": {
          "base_uri": "https://localhost:8080/",
          "height": 561
        }
      },
      "source": [
        "!pip install pycuda"
      ],
      "execution_count": 1,
      "outputs": [
        {
          "output_type": "stream",
          "text": [
            "Collecting pycuda\n",
            "\u001b[?25l  Downloading https://files.pythonhosted.org/packages/4d/29/5a3eb66c2f1a4adc681f6c8131e9ed677af31b0c8a78726d540bd44b3403/pycuda-2019.1.tar.gz (1.6MB)\n",
            "\u001b[K     |████████████████████████████████| 1.6MB 3.4MB/s \n",
            "\u001b[?25hCollecting pytools>=2011.2 (from pycuda)\n",
            "\u001b[?25l  Downloading https://files.pythonhosted.org/packages/00/96/00416762a3eda8876a17d007df4a946f46b2e4ee1057e0b9714926472ef8/pytools-2019.1.1.tar.gz (58kB)\n",
            "\u001b[K     |████████████████████████████████| 61kB 27.4MB/s \n",
            "\u001b[?25hRequirement already satisfied: pytest>=2 in /usr/local/lib/python3.6/dist-packages (from pycuda) (3.6.4)\n",
            "Requirement already satisfied: decorator>=3.2.0 in /usr/local/lib/python3.6/dist-packages (from pycuda) (4.4.0)\n",
            "Collecting appdirs>=1.4.0 (from pycuda)\n",
            "  Downloading https://files.pythonhosted.org/packages/56/eb/810e700ed1349edde4cbdc1b2a21e28cdf115f9faf263f6bbf8447c1abf3/appdirs-1.4.3-py2.py3-none-any.whl\n",
            "Collecting mako (from pycuda)\n",
            "\u001b[?25l  Downloading https://files.pythonhosted.org/packages/0a/af/a6d8aa7b8909a36074f517b15222e3a2fbd5ef3452c0a686e3d43043dd3b/Mako-1.0.12.tar.gz (460kB)\n",
            "\u001b[K     |████████████████████████████████| 460kB 51.4MB/s \n",
            "\u001b[?25hRequirement already satisfied: six>=1.8.0 in /usr/local/lib/python3.6/dist-packages (from pytools>=2011.2->pycuda) (1.12.0)\n",
            "Requirement already satisfied: numpy>=1.6.0 in /usr/local/lib/python3.6/dist-packages (from pytools>=2011.2->pycuda) (1.16.4)\n",
            "Requirement already satisfied: attrs>=17.4.0 in /usr/local/lib/python3.6/dist-packages (from pytest>=2->pycuda) (19.1.0)\n",
            "Requirement already satisfied: atomicwrites>=1.0 in /usr/local/lib/python3.6/dist-packages (from pytest>=2->pycuda) (1.3.0)\n",
            "Requirement already satisfied: pluggy<0.8,>=0.5 in /usr/local/lib/python3.6/dist-packages (from pytest>=2->pycuda) (0.7.1)\n",
            "Requirement already satisfied: setuptools in /usr/local/lib/python3.6/dist-packages (from pytest>=2->pycuda) (41.0.1)\n",
            "Requirement already satisfied: more-itertools>=4.0.0 in /usr/local/lib/python3.6/dist-packages (from pytest>=2->pycuda) (7.0.0)\n",
            "Requirement already satisfied: py>=1.5.0 in /usr/local/lib/python3.6/dist-packages (from pytest>=2->pycuda) (1.8.0)\n",
            "Requirement already satisfied: MarkupSafe>=0.9.2 in /usr/local/lib/python3.6/dist-packages (from mako->pycuda) (1.1.1)\n",
            "Building wheels for collected packages: pycuda, pytools, mako\n",
            "  Building wheel for pycuda (setup.py) ... \u001b[?25l\u001b[?25hdone\n",
            "  Stored in directory: /root/.cache/pip/wheels/de/c2/d5/351a6b47b20d417e82a669cf53f8cb4d7b55a57f73cbd05184\n",
            "  Building wheel for pytools (setup.py) ... \u001b[?25l\u001b[?25hdone\n",
            "  Stored in directory: /root/.cache/pip/wheels/83/df/0b/75ac4572aaa93e3eba6a58472635d0fda907f5f4cf884a3a0c\n",
            "  Building wheel for mako (setup.py) ... \u001b[?25l\u001b[?25hdone\n",
            "  Stored in directory: /root/.cache/pip/wheels/b3/7b/ae/5addd138cd8175503b9782737bada30d0c88310d08c106f9bf\n",
            "Successfully built pycuda pytools mako\n",
            "Installing collected packages: appdirs, pytools, mako, pycuda\n",
            "Successfully installed appdirs-1.4.3 mako-1.0.12 pycuda-2019.1 pytools-2019.1.1\n"
          ],
          "name": "stdout"
        }
      ]
    },
    {
      "cell_type": "markdown",
      "metadata": {
        "id": "WNA6B4J0pmcc",
        "colab_type": "text"
      },
      "source": [
        "[1024 1024 64]"
      ]
    },
    {
      "cell_type": "code",
      "metadata": {
        "id": "VWoVzi-aXDf9",
        "colab_type": "code",
        "colab": {}
      },
      "source": [
        "import pycuda.driver as cuda\n",
        "import pycuda.autoinit\n",
        "from pycuda.compiler import SourceModule\n",
        "import numpy as np"
      ],
      "execution_count": 0,
      "outputs": []
    },
    {
      "cell_type": "code",
      "metadata": {
        "id": "GlkToTllkigD",
        "colab_type": "code",
        "colab": {}
      },
      "source": [
        "def kvadrature_GPU(a, b, N, delta):\n",
        "  h = np.float32((b - a) /  N)\n",
        "  delta = np.float32(delta)\n",
        "  a = np.empty(N)\n",
        "  a = a.astype(numpy.float32)\n",
        "  a_gpu = cuda.mem_alloc(a.nbytes)\n",
        "  cuda.memcpy_htod(a_gpu, a)\n",
        "  \n",
        "  mod = SourceModule(\"\"\"\n",
        "    __device__ float f(float x)\n",
        "    {\n",
        "      return x;\n",
        "    }\n",
        "\n",
        "    __global__ void kvadratur(float *a, float h, float delta)\n",
        "    {\n",
        "      int k = threadIdx.x;\n",
        "      a[k] = f(delta + (k - 1) * h);\n",
        "    }\n",
        "    \"\"\")\n",
        "  func = mod.get_function(\"kvadratur\")\n",
        "  func(a_gpu, h, delta, block=(N,1,1))\n",
        "  a_res = numpy.empty_like(a)\n",
        "  cuda.memcpy_dtoh(a_res, a_gpu)\n",
        "  return h * sum(a_res)"
      ],
      "execution_count": 0,
      "outputs": []
    },
    {
      "cell_type": "code",
      "metadata": {
        "id": "EeGW72blbCCc",
        "colab_type": "code",
        "colab": {}
      },
      "source": [
        "def kvadrature_GPU_left(a, b, N):\n",
        "  return kvadrature_GPU(a, b, N, a)\n",
        "\n",
        "def kvadrature_GPU_midle(a, b, N):\n",
        "  return kvadrature_GPU(a, b, N, a + (b - a) / (2 * N))\n",
        "\n",
        "def kvadrature_GPU_right(a, b, N):\n",
        "  return kvadrature_GPU(a, b, N, a + (b - a) / N)"
      ],
      "execution_count": 0,
      "outputs": []
    },
    {
      "cell_type": "code",
      "metadata": {
        "id": "YcnLjjwdkmMB",
        "colab_type": "code",
        "colab": {
          "base_uri": "https://localhost:8080/",
          "height": 34
        },
        "outputId": "33484a82-f6f7-41ac-e9ae-9719654a4330"
      },
      "source": [
        "kvadrature_GPU_left(-1, 1, 1024)"
      ],
      "execution_count": 27,
      "outputs": [
        {
          "output_type": "execute_result",
          "data": {
            "text/plain": [
              "-0.005859375"
            ]
          },
          "metadata": {
            "tags": []
          },
          "execution_count": 27
        }
      ]
    },
    {
      "cell_type": "code",
      "metadata": {
        "id": "lOIWhWMiasF8",
        "colab_type": "code",
        "colab": {
          "base_uri": "https://localhost:8080/",
          "height": 34
        },
        "outputId": "5fffd425-9219-447b-bbaa-debe07749bea"
      },
      "source": [
        "kvadrature_GPU_midle(-1, 1, 1024)"
      ],
      "execution_count": 28,
      "outputs": [
        {
          "output_type": "execute_result",
          "data": {
            "text/plain": [
              "-0.00390625"
            ]
          },
          "metadata": {
            "tags": []
          },
          "execution_count": 28
        }
      ]
    },
    {
      "cell_type": "code",
      "metadata": {
        "id": "YK8Hj89pbyS1",
        "colab_type": "code",
        "colab": {
          "base_uri": "https://localhost:8080/",
          "height": 34
        },
        "outputId": "074ea3d0-e735-4730-dbd5-8e9eed3a1062"
      },
      "source": [
        "kvadrature_GPU_right(-1, 1, 1024)"
      ],
      "execution_count": 29,
      "outputs": [
        {
          "output_type": "execute_result",
          "data": {
            "text/plain": [
              "-0.001953125"
            ]
          },
          "metadata": {
            "tags": []
          },
          "execution_count": 29
        }
      ]
    },
    {
      "cell_type": "code",
      "metadata": {
        "id": "YzUnVgV7b0Fq",
        "colab_type": "code",
        "colab": {}
      },
      "source": [
        ""
      ],
      "execution_count": 0,
      "outputs": []
    }
  ]
}